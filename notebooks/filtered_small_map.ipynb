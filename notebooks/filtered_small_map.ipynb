{
 "cells": [
  {
   "cell_type": "code",
   "execution_count": 1,
   "id": "446fccc8",
   "metadata": {},
   "outputs": [],
   "source": [
    "from typing import Dict, List\n",
    "import matplotlib.pyplot as plt\n",
    "import networkx as nx\n",
    "import overpy\n",
    "import numpy as np\n",
    "from operator import itemgetter"
   ]
  },
  {
   "cell_type": "code",
   "execution_count": 13,
   "id": "f09008c6",
   "metadata": {},
   "outputs": [
    {
     "ename": "OverpassBadRequest",
     "evalue": "Error: line 1: parse error: Invalid parameter for print: &quot;id&quot; ",
     "output_type": "error",
     "traceback": [
      "\u001b[0;31m---------------------------------------------------------------------------\u001b[0m",
      "\u001b[0;31mOverpassBadRequest\u001b[0m                        Traceback (most recent call last)",
      "Cell \u001b[0;32mIn[13], line 2\u001b[0m\n\u001b[1;32m      1\u001b[0m api \u001b[38;5;241m=\u001b[39m overpy\u001b[38;5;241m.\u001b[39mOverpass()\n\u001b[0;32m----> 2\u001b[0m result \u001b[38;5;241m=\u001b[39m \u001b[43mapi\u001b[49m\u001b[38;5;241;43m.\u001b[39;49m\u001b[43mquery\u001b[49m\u001b[43m(\u001b[49m\u001b[38;5;124;43m\"\u001b[39;49m\u001b[38;5;124;43mway(24064204); out id;\u001b[39;49m\u001b[38;5;124;43m\"\u001b[39;49m\u001b[43m)\u001b[49m\n\u001b[1;32m      3\u001b[0m result\u001b[38;5;241m.\u001b[39mways\n",
      "File \u001b[0;32m~/St_Andrews/cs5099/env/lib/python3.9/site-packages/overpy/__init__.py:173\u001b[0m, in \u001b[0;36mOverpass.query\u001b[0;34m(self, query)\u001b[0m\n\u001b[1;32m    168\u001b[0m current_exception \u001b[38;5;241m=\u001b[39m exception\u001b[38;5;241m.\u001b[39mOverpassBadRequest(\n\u001b[1;32m    169\u001b[0m     query,\n\u001b[1;32m    170\u001b[0m     msgs\u001b[38;5;241m=\u001b[39mmsgs\n\u001b[1;32m    171\u001b[0m )\n\u001b[1;32m    172\u001b[0m \u001b[38;5;28;01mif\u001b[39;00m \u001b[38;5;129;01mnot\u001b[39;00m do_retry:\n\u001b[0;32m--> 173\u001b[0m     \u001b[38;5;28;01mraise\u001b[39;00m current_exception\n\u001b[1;32m    174\u001b[0m retry_exceptions\u001b[38;5;241m.\u001b[39mappend(current_exception)\n\u001b[1;32m    175\u001b[0m \u001b[38;5;28;01mcontinue\u001b[39;00m\n",
      "\u001b[0;31mOverpassBadRequest\u001b[0m: Error: line 1: parse error: Invalid parameter for print: &quot;id&quot; "
     ]
    }
   ],
   "source": [
    "api = overpy.Overpass()\n",
    "result = api.query(\"way(24064204); out id;\")\n",
    "result.ways"
   ]
  },
  {
   "cell_type": "code",
   "execution_count": 17,
   "id": "da04336e",
   "metadata": {},
   "outputs": [],
   "source": [
    "import os\n",
    "import sys\n",
    "module_path = os.path.abspath(os.path.join('..'))\n",
    "if module_path not in sys.path:\n",
    "    sys.path.append(module_path)"
   ]
  },
  {
   "cell_type": "code",
   "execution_count": 18,
   "id": "812c9da5",
   "metadata": {},
   "outputs": [],
   "source": [
    "from scripts.config import Config"
   ]
  },
  {
   "cell_type": "code",
   "execution_count": 19,
   "id": "e7d66027",
   "metadata": {},
   "outputs": [],
   "source": [
    "def eval_way(way, config: Config = Config()):\n",
    "    score = 0\n",
    "    max_score = config.weight_sum()\n",
    "    for tag, value in way.tags.items():\n",
    "        weight, mapping = config[tag]\n",
    "        score += weight * mapping.get(value, 0)\n",
    "    return score / max_score"
   ]
  },
  {
   "cell_type": "code",
   "execution_count": 20,
   "id": "91972c3a",
   "metadata": {},
   "outputs": [],
   "source": [
    "def filter_ways(result, threshold):\n",
    "    ways = []\n",
    "    for way in result.ways:\n",
    "        score = eval_way(way)\n",
    "        if score > threshold:\n",
    "            ways.append(way)\n",
    "    return ways"
   ]
  },
  {
   "cell_type": "code",
   "execution_count": 21,
   "id": "2ee04b57",
   "metadata": {},
   "outputs": [],
   "source": [
    "def node_in_area(node: overpy.Node, config: Config):\n",
    "    south, west, north, east = config.bounding_box.South, config.bounding_box.West, \\\n",
    "        config.bounding_box.North, config.bounding_box.East\n",
    "    lon, lat = float(node.lon), float(node.lat)\n",
    "    return (lon <= east) and (lon >= west) and (lat >= south) and (lat <= north)"
   ]
  },
  {
   "cell_type": "code",
   "execution_count": 22,
   "id": "338facd5",
   "metadata": {},
   "outputs": [],
   "source": [
    "def ways_to_edges(ways: List[overpy.Way], config: Config = Config()):\n",
    "    link_counter: Dict[str, int] = {}\n",
    "    for way in ways:\n",
    "        nodes = way.get_nodes(resolve_missing=True)\n",
    "        for node in nodes:\n",
    "            link_counter[node.id] = link_counter.get(node.id, 0) + 1\n",
    "\n",
    "    edges = []\n",
    "    all_nodes = set()\n",
    "    for way in ways:\n",
    "        nodes = way.get_nodes(resolve_missing=True)\n",
    "        nodes = [node for node in nodes if node_in_area(node, config)]\n",
    "        if len(nodes) == 2:\n",
    "            edges.append([nodes[0].id, nodes[1].id])  # add way as an edge\n",
    "            all_nodes.add(nodes[0])\n",
    "            all_nodes.add(nodes[1])\n",
    "            continue\n",
    "        head = nodes[0]\n",
    "        tail = nodes[len(nodes) - 1]\n",
    "        prev = head\n",
    "        for i in range(1, len(nodes)):\n",
    "            node = nodes[i]\n",
    "            if (link_counter[node.id] > 1 or node is tail) and prev.id != node.id:\n",
    "                edges.append([prev.id, node.id])\n",
    "                all_nodes.add(prev)\n",
    "                all_nodes.add(node)\n",
    "                prev = node\n",
    "    return edges, list(all_nodes)"
   ]
  },
  {
   "cell_type": "code",
   "execution_count": 23,
   "id": "d9e8f09b",
   "metadata": {},
   "outputs": [],
   "source": [
    "api = overpy.Overpass()\n",
    "result = api.query(\"nwr(56.3284, -2.8350, 56.3437, -2.7855); out;\")  # st andrews\n",
    "# result = api.query(\"nwr(56.3375, -2.8059, 56.3422, -2.7888); out;\")\n",
    "target_way_query = api.query(\"way(24064204); out;\")\n",
    "target_way = target_way_query.ways[0]"
   ]
  },
  {
   "cell_type": "code",
   "execution_count": 24,
   "id": "4c3e31ff",
   "metadata": {},
   "outputs": [],
   "source": [
    "ways = filter_ways(result, 0.15)"
   ]
  },
  {
   "cell_type": "code",
   "execution_count": 25,
   "id": "2dd56d1a",
   "metadata": {},
   "outputs": [],
   "source": [
    "ways_ids = [way.id for way in ways]"
   ]
  },
  {
   "cell_type": "code",
   "execution_count": 26,
   "id": "3bf1e783",
   "metadata": {},
   "outputs": [
    {
     "data": {
      "text/plain": [
       "False"
      ]
     },
     "execution_count": 26,
     "metadata": {},
     "output_type": "execute_result"
    }
   ],
   "source": [
    "24064204 in ways_ids"
   ]
  },
  {
   "cell_type": "code",
   "execution_count": null,
   "id": "80ec77ca",
   "metadata": {},
   "outputs": [],
   "source": [
    "link_counter: Dict[str, int] = {}\n",
    "for way in ways:\n",
    "    nodes = way.get_nodes(resolve_missing=True)\n",
    "    if way.id == 24064204:\n",
    "        print(nodes)\n",
    "    for node in nodes:\n",
    "        link_counter[node.id] = link_counter.get(node.id, 0) + 1"
   ]
  },
  {
   "cell_type": "code",
   "execution_count": null,
   "id": "01e447dc",
   "metadata": {},
   "outputs": [],
   "source": [
    "link_counter"
   ]
  },
  {
   "cell_type": "code",
   "execution_count": null,
   "id": "ce6ee9db",
   "metadata": {},
   "outputs": [],
   "source": [
    "way = target_way\n",
    "way.get_nodes(resolve_missing=True)"
   ]
  },
  {
   "cell_type": "code",
   "execution_count": null,
   "id": "8ec27db5",
   "metadata": {},
   "outputs": [],
   "source": [
    "edges = []\n",
    "all_nodes = set()\n",
    "\n",
    "nodes = way.get_nodes(resolve_missing=True)\n",
    "nodes = [node for node in nodes if node_in_area(node, Config())]\n",
    "nodes"
   ]
  },
  {
   "cell_type": "code",
   "execution_count": null,
   "id": "06e0d121",
   "metadata": {},
   "outputs": [],
   "source": [
    "head = nodes[0]\n",
    "head"
   ]
  },
  {
   "cell_type": "code",
   "execution_count": null,
   "id": "182d1616",
   "metadata": {},
   "outputs": [],
   "source": [
    "tail = nodes[len(nodes) - 1]\n",
    "tail"
   ]
  },
  {
   "cell_type": "code",
   "execution_count": null,
   "id": "a1ddb0b2",
   "metadata": {},
   "outputs": [],
   "source": [
    "prev = head\n",
    "for i in range(1, len(nodes)):\n",
    "    node = nodes[i]\n",
    "    if (link_counter.get(node.id, 0) > 1 or node is tail) and prev.id != node.id:\n",
    "        edges.append([prev.id, node.id])\n",
    "        all_nodes.add(prev)\n",
    "        all_nodes.add(node)\n",
    "        prev = node"
   ]
  },
  {
   "cell_type": "code",
   "execution_count": null,
   "id": "3dbdcfae",
   "metadata": {},
   "outputs": [],
   "source": [
    "edges"
   ]
  },
  {
   "cell_type": "code",
   "execution_count": null,
   "id": "12cabf60",
   "metadata": {},
   "outputs": [],
   "source": [
    "edges, all_nodes = ways_to_edges(ways)"
   ]
  },
  {
   "cell_type": "code",
   "execution_count": null,
   "id": "a8af6ee6",
   "metadata": {},
   "outputs": [],
   "source": [
    "ids = set([node.id for node in all_nodes])\n",
    "print(261732339 in ids)"
   ]
  },
  {
   "cell_type": "code",
   "execution_count": null,
   "id": "86fc85f1",
   "metadata": {},
   "outputs": [],
   "source": [
    "target = 261732339\n",
    "for edge in edges:\n",
    "    if edge[0] == edge[1]:\n",
    "        print(edge)"
   ]
  },
  {
   "cell_type": "code",
   "execution_count": null,
   "id": "580a3bf5",
   "metadata": {},
   "outputs": [],
   "source": [
    "layout = {node.id: (float(node.lon), float(node.lat)) for node in all_nodes}"
   ]
  },
  {
   "cell_type": "code",
   "execution_count": null,
   "id": "23fb4f54",
   "metadata": {},
   "outputs": [],
   "source": [
    "G = nx.Graph(edges)"
   ]
  },
  {
   "cell_type": "code",
   "execution_count": null,
   "id": "8b68be5c",
   "metadata": {},
   "outputs": [],
   "source": [
    "nx.draw_networkx(G, pos=layout, with_labels=False, node_size=10, font_size=6)"
   ]
  },
  {
   "cell_type": "code",
   "execution_count": null,
   "id": "668ce066",
   "metadata": {},
   "outputs": [],
   "source": [
    "def poly_area(x,y):\n",
    "    return 0.5 * np.abs(np.dot(x, np.roll(y, 1)) - np.dot(y, np.roll(x, 1)))"
   ]
  },
  {
   "cell_type": "code",
   "execution_count": null,
   "id": "e51e7941",
   "metadata": {},
   "outputs": [],
   "source": [
    "def group_area(group, layout):\n",
    "    coordinates = [layout.get(node_id) for node_id in group]\n",
    "    south = min(coordinates, key=lambda x: x[1])\n",
    "    west = min(coordinates, key=lambda x: x[0])\n",
    "    north = max(coordinates, key=lambda x: x[1])\n",
    "    east = max(coordinates, key=lambda x: x[0])\n",
    "    bbox = [south, west, north, east]\n",
    "    return poly_area([n[0] for n in bbox], [n[1] for n in bbox])"
   ]
  },
  {
   "cell_type": "code",
   "execution_count": null,
   "id": "624deed9",
   "metadata": {},
   "outputs": [],
   "source": [
    "sorted_groups = sorted(nx.connected_components(G), key=lambda g: group_area(g, layout), reverse=True)\n",
    "len(sorted_groups[0])"
   ]
  },
  {
   "cell_type": "code",
   "execution_count": null,
   "id": "148addff",
   "metadata": {},
   "outputs": [],
   "source": [
    "largest_component = G.subgraph(list(sorted_groups[0]))\n",
    "second_component = G.subgraph(list(sorted_groups[1]))\n",
    "nx.draw_networkx(G, pos=layout, with_labels=False, \\\n",
    "                 node_size=5)\n",
    "nx.draw_networkx(largest_component, pos=layout, \\\n",
    "                 with_labels=False, node_size=5, \\\n",
    "                 node_color='r', edge_color='r', font_size=6)\n",
    "nx.draw_networkx(second_component, pos=layout, \\\n",
    "                 with_labels=False, node_size=5, \\\n",
    "                 node_color='m', edge_color='m', font_size=6)"
   ]
  }
 ],
 "metadata": {
  "kernelspec": {
   "display_name": "venv",
   "language": "python",
   "name": "venv"
  },
  "language_info": {
   "codemirror_mode": {
    "name": "ipython",
    "version": 3
   },
   "file_extension": ".py",
   "mimetype": "text/x-python",
   "name": "python",
   "nbconvert_exporter": "python",
   "pygments_lexer": "ipython3",
   "version": "3.9.6"
  }
 },
 "nbformat": 4,
 "nbformat_minor": 5
}
