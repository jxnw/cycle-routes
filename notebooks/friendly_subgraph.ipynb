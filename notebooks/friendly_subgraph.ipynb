{
 "cells": [
  {
   "cell_type": "code",
   "execution_count": 1,
   "id": "1d6e2fd6",
   "metadata": {},
   "outputs": [],
   "source": [
    "import os\n",
    "import sys\n",
    "module_path = os.path.abspath(os.path.join('..'))\n",
    "if module_path not in sys.path:\n",
    "    sys.path.append(module_path)"
   ]
  },
  {
   "cell_type": "code",
   "execution_count": 2,
   "id": "ba31a1d2",
   "metadata": {},
   "outputs": [],
   "source": [
    "from scripts.config import Config\n",
    "from scripts.model import Model\n",
    "from scripts.graph_processing import GraphProcessing\n",
    "\n",
    "import math\n",
    "import matplotlib.pyplot as plt\n",
    "import networkx as nx\n",
    "import numpy as np"
   ]
  },
  {
   "cell_type": "code",
   "execution_count": 3,
   "id": "bb54ce59",
   "metadata": {},
   "outputs": [],
   "source": [
    "config = Config()\n",
    "model = Model(config)"
   ]
  },
  {
   "cell_type": "code",
   "execution_count": 4,
   "id": "ce3cd814",
   "metadata": {},
   "outputs": [],
   "source": [
    "ways = model.data_fetcher.get_ways()\n",
    "filtered_ways = model.filter_ways(ways)"
   ]
  },
  {
   "cell_type": "code",
   "execution_count": 25,
   "id": "3bbfa5ae",
   "metadata": {},
   "outputs": [],
   "source": [
    "adj_list_all = model.ways_to_dol(ways)\n",
    "graph_all = nx.Graph(adj_list_all)"
   ]
  },
  {
   "cell_type": "code",
   "execution_count": 42,
   "id": "2bc8e1fa",
   "metadata": {},
   "outputs": [
    {
     "name": "stdout",
     "output_type": "stream",
     "text": [
      "CPU times: user 20.7 ms, sys: 2.51 ms, total: 23.2 ms\n",
      "Wall time: 21.6 ms\n"
     ]
    }
   ],
   "source": [
    "%%time\n",
    "adj_list_friendly = model.ways_to_dol(filtered_ways)\n",
    "graph_friendly = nx.Graph(adj_list_friendly)"
   ]
  }
 ],
 "metadata": {
  "kernelspec": {
   "display_name": "venv",
   "language": "python",
   "name": "venv"
  },
  "language_info": {
   "codemirror_mode": {
    "name": "ipython",
    "version": 3
   },
   "file_extension": ".py",
   "mimetype": "text/x-python",
   "name": "python",
   "nbconvert_exporter": "python",
   "pygments_lexer": "ipython3",
   "version": "3.9.6"
  }
 },
 "nbformat": 4,
 "nbformat_minor": 5
}
