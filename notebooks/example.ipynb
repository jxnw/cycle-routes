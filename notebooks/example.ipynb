{
 "cells": [
  {
   "cell_type": "code",
   "execution_count": 5,
   "id": "446fccc8",
   "metadata": {},
   "outputs": [],
   "source": [
    "import igraph as ig\n",
    "from typing import Dict\n",
    "import matplotlib.pyplot as plt\n",
    "import overpy"
   ]
  },
  {
   "cell_type": "code",
   "execution_count": 6,
   "id": "d9e8f09b",
   "metadata": {},
   "outputs": [],
   "source": [
    "api = overpy.Overpass()\n",
    "result = api.query(\"nwr(56.3344, -2.8153, 56.3434, -2.7836); out;\")"
   ]
  },
  {
   "cell_type": "code",
   "execution_count": 15,
   "id": "d68235bb",
   "metadata": {},
   "outputs": [
    {
     "data": {
      "text/plain": [
       "int"
      ]
     },
     "execution_count": 15,
     "metadata": {},
     "output_type": "execute_result"
    }
   ],
   "source": [
    "type(result.nodes[0].id)"
   ]
  }
 ],
 "metadata": {
  "kernelspec": {
   "display_name": "venv",
   "language": "python",
   "name": "venv"
  },
  "language_info": {
   "codemirror_mode": {
    "name": "ipython",
    "version": 3
   },
   "file_extension": ".py",
   "mimetype": "text/x-python",
   "name": "python",
   "nbconvert_exporter": "python",
   "pygments_lexer": "ipython3",
   "version": "3.8.9"
  }
 },
 "nbformat": 4,
 "nbformat_minor": 5
}
