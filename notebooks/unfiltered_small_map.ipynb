{
 "cells": [
  {
   "cell_type": "code",
   "execution_count": 1,
   "id": "446fccc8",
   "metadata": {},
   "outputs": [],
   "source": [
    "import igraph as ig\n",
    "from typing import Dict, List\n",
    "import matplotlib.pyplot as plt\n",
    "import overpy"
   ]
  },
  {
   "cell_type": "code",
   "execution_count": 2,
   "id": "da04336e",
   "metadata": {},
   "outputs": [],
   "source": [
    "# import os\n",
    "# import sys\n",
    "# module_path = os.path.abspath(os.path.join('..'))\n",
    "# if module_path not in sys.path:\n",
    "#     sys.path.append(module_path)"
   ]
  },
  {
   "cell_type": "code",
   "execution_count": 3,
   "id": "812c9da5",
   "metadata": {},
   "outputs": [],
   "source": [
    "from scripts.config import Config"
   ]
  },
  {
   "cell_type": "code",
   "execution_count": 4,
   "id": "e7d66027",
   "metadata": {},
   "outputs": [],
   "source": [
    "def eval_way(way, config: Config = Config()):\n",
    "    score = 0\n",
    "    max_score = config.weight_sum()\n",
    "    for tag, value in way.tags.items():\n",
    "        weight, mapping = config[tag]\n",
    "        score += weight * mapping.get(value, 0)\n",
    "    return score / max_score"
   ]
  },
  {
   "cell_type": "code",
   "execution_count": 5,
   "id": "8cc29e81",
   "metadata": {},
   "outputs": [],
   "source": [
    "def filter_ways(result, threshold):\n",
    "    ways = []\n",
    "    for way in result.ways:\n",
    "        score = eval_way(way)\n",
    "        if score > threshold:\n",
    "            ways.append(way)\n",
    "    return ways"
   ]
  },
  {
   "cell_type": "code",
   "execution_count": 6,
   "id": "338facd5",
   "metadata": {},
   "outputs": [],
   "source": [
    "def ways_to_edges(ways: List[overpy.Way]):\n",
    "    link_counter: Dict[str, int] = {}\n",
    "    for way in ways:\n",
    "        nodes = way.get_nodes(resolve_missing=True)\n",
    "        for node in nodes:\n",
    "            link_counter[node.id] = link_counter.get(node.id, 0) + 1\n",
    "\n",
    "    edges = []\n",
    "    all_nodes = set()\n",
    "    for way in ways:\n",
    "        nodes = way.get_nodes(resolve_missing=True)\n",
    "        if len(nodes) == 2:\n",
    "            edges.append([nodes[0].id, nodes[1].id])  # add way as an edge\n",
    "            all_nodes.add(nodes[0])\n",
    "            all_nodes.add(nodes[1])\n",
    "            continue\n",
    "        head = nodes[0]\n",
    "        tail = nodes[len(nodes) - 1]\n",
    "        prev = head\n",
    "        for i in range(1, len(nodes) - 1):\n",
    "            node = nodes[i]\n",
    "            if link_counter[node.id] > 1:\n",
    "                # break the way on node\n",
    "                edges.append([prev.id, node.id])\n",
    "                all_nodes.add(prev)\n",
    "                all_nodes.add(node)\n",
    "                prev = node\n",
    "                if i == len(nodes) - 2:\n",
    "                    edges.append([node.id, tail.id])\n",
    "                    all_nodes.add(tail)\n",
    "    return edges, list(all_nodes)"
   ]
  },
  {
   "cell_type": "code",
   "execution_count": 7,
   "id": "d9e8f09b",
   "metadata": {},
   "outputs": [],
   "source": [
    "api = overpy.Overpass()\n",
    "# result = api.query(\"nwr(56.3284, -2.8350, 56.3437, -2.7855); out;\")  # st andrews\n",
    "result = api.query(\"nwr(56.3375, -2.8059, 56.3422, -2.7888); out;\")"
   ]
  },
  {
   "cell_type": "code",
   "execution_count": 8,
   "id": "9c6f30c0",
   "metadata": {},
   "outputs": [],
   "source": [
    "# tag_count = {}\n",
    "# for way in result.ways:\n",
    "#     for tag in way.tags:\n",
    "#         tag_count[tag] = tag_count.get(tag, 0) + 1\n",
    "# dict(sorted(tag_count.items(), key=lambda item: item[1]))"
   ]
  },
  {
   "cell_type": "code",
   "execution_count": 9,
   "id": "75681e54",
   "metadata": {},
   "outputs": [],
   "source": [
    "# highway_count = {}\n",
    "# for way in result.ways:\n",
    "#     for tag, value in way.tags.items():\n",
    "#         if tag == 'highway':\n",
    "#             highway_count[value] = highway_count.get(value, 0) + 1\n",
    "# dict(sorted(highway_count.items(), key=lambda item: item[1]))"
   ]
  },
  {
   "cell_type": "code",
   "execution_count": 10,
   "id": "4c3e31ff",
   "metadata": {},
   "outputs": [],
   "source": [
    "ways = filter_ways(result, -1)"
   ]
  },
  {
   "cell_type": "code",
   "execution_count": 11,
   "id": "a662b26d",
   "metadata": {},
   "outputs": [],
   "source": [
    "edges, all_nodes = ways_to_edges(ways)\n",
    "node_mapping = {node.id: idx for idx, node in enumerate(all_nodes)}\n",
    "mapped_edges = [[node_mapping[edge[0]], node_mapping[edge[1]]] for edge in edges]"
   ]
  },
  {
   "cell_type": "code",
   "execution_count": 12,
   "id": "e9e3c930",
   "metadata": {},
   "outputs": [
    {
     "name": "stdout",
     "output_type": "stream",
     "text": [
      "4488\n",
      "2445\n"
     ]
    }
   ],
   "source": [
    "print(len(edges))\n",
    "print(len(all_nodes))"
   ]
  },
  {
   "cell_type": "code",
   "execution_count": 13,
   "id": "afebca28",
   "metadata": {},
   "outputs": [],
   "source": [
    "layout = [(float(node.lon), float(node.lat)) for node in all_nodes]"
   ]
  },
  {
   "cell_type": "code",
   "execution_count": 14,
   "id": "72340687",
   "metadata": {},
   "outputs": [
    {
     "data": {
      "image/png": "[encoded data removed]",
      "text/plain": [
       "<Figure size 640x480 with 1 Axes>"
      ]
     },
     "metadata": {},
     "output_type": "display_data"
    }
   ],
   "source": [
    "g = ig.Graph(n=len(all_nodes), edges=mapped_edges)\n",
    "fig, ax = plt.subplots()\n",
    "ig.plot(g, target=ax, layout=layout, vertex_size=0.0002, bbox=(800,400))\n",
    "plt.show()"
   ]
  },
  {
   "cell_type": "code",
   "execution_count": 15,
   "id": "83f7f02f",
   "metadata": {},
   "outputs": [
    {
     "data": {
      "text/plain": [
       "'Clustering with 2445 elements and 72 clusters'"
      ]
     },
     "execution_count": 15,
     "metadata": {},
     "output_type": "execute_result"
    }
   ],
   "source": [
    "components = g.connected_components()\n",
    "components.summary()"
   ]
  },
  {
   "cell_type": "code",
   "execution_count": 16,
   "id": "4a35792d",
   "metadata": {},
   "outputs": [
    {
     "name": "stdout",
     "output_type": "stream",
     "text": [
      "N = 72, mean +- sd: 33.9583 +- 191.9064\n",
      "[   0,   10): **************************************************** (52)\n",
      "[  10,   20): ********* (9)\n",
      "[  20,   30): **** (4)\n",
      "[  30,   40): ** (2)\n",
      "[  40,   50):  (0)\n",
      "[  50,   60): * (1)\n",
      "[  60,   70): ** (2)\n",
      "[  70,   80):  (0)\n",
      "[  80,   90):  (0)\n",
      "[  90,  100):  (0)\n",
      "[ 100,  110):  (0)\n",
      "[ 110,  120):  (0)\n",
      "[ 120,  130): * (1)\n",
      "[ 130,  140):  (0)\n",
      "[ 140,  150):  (0)\n",
      "[ 150,  160):  (0)\n",
      "[ 160,  170):  (0)\n",
      "[ 170,  180):  (0)\n",
      "[ 180,  190):  (0)\n",
      "[ 190,  200):  (0)\n",
      "[ 200,  210):  (0)\n",
      "[ 210,  220):  (0)\n",
      "[ 220,  230):  (0)\n",
      "[ 230,  240):  (0)\n",
      "[ 240,  250):  (0)\n",
      "[ 250,  260):  (0)\n",
      "[ 260,  270):  (0)\n",
      "[ 270,  280):  (0)\n",
      "[ 280,  290):  (0)\n",
      "[ 290,  300):  (0)\n",
      "[ 300,  310):  (0)\n",
      "[ 310,  320):  (0)\n",
      "[ 320,  330):  (0)\n",
      "[ 330,  340):  (0)\n",
      "[ 340,  350):  (0)\n",
      "[ 350,  360):  (0)\n",
      "[ 360,  370):  (0)\n",
      "[ 370,  380):  (0)\n",
      "[ 380,  390):  (0)\n",
      "[ 390,  400):  (0)\n",
      "[ 400,  410):  (0)\n",
      "[ 410,  420):  (0)\n",
      "[ 420,  430):  (0)\n",
      "[ 430,  440):  (0)\n",
      "[ 440,  450):  (0)\n",
      "[ 450,  460):  (0)\n",
      "[ 460,  470):  (0)\n",
      "[ 470,  480):  (0)\n",
      "[ 480,  490):  (0)\n",
      "[ 490,  500):  (0)\n",
      "[ 500,  510):  (0)\n",
      "[ 510,  520):  (0)\n",
      "[ 520,  530):  (0)\n",
      "[ 530,  540):  (0)\n",
      "[ 540,  550):  (0)\n",
      "[ 550,  560):  (0)\n",
      "[ 560,  570):  (0)\n",
      "[ 570,  580):  (0)\n",
      "[ 580,  590):  (0)\n",
      "[ 590,  600):  (0)\n",
      "[ 600,  610):  (0)\n",
      "[ 610,  620):  (0)\n",
      "[ 620,  630):  (0)\n",
      "[ 630,  640):  (0)\n",
      "[ 640,  650):  (0)\n",
      "[ 650,  660):  (0)\n",
      "[ 660,  670):  (0)\n",
      "[ 670,  680):  (0)\n",
      "[ 680,  690):  (0)\n",
      "[ 690,  700):  (0)\n",
      "[ 700,  710):  (0)\n",
      "[ 710,  720):  (0)\n",
      "[ 720,  730):  (0)\n",
      "[ 730,  740):  (0)\n",
      "[ 740,  750):  (0)\n",
      "[ 750,  760):  (0)\n",
      "[ 760,  770):  (0)\n",
      "[ 770,  780):  (0)\n",
      "[ 780,  790):  (0)\n",
      "[ 790,  800):  (0)\n",
      "[ 800,  810):  (0)\n",
      "[ 810,  820):  (0)\n",
      "[ 820,  830):  (0)\n",
      "[ 830,  840):  (0)\n",
      "[ 840,  850):  (0)\n",
      "[ 850,  860):  (0)\n",
      "[ 860,  870):  (0)\n",
      "[ 870,  880):  (0)\n",
      "[ 880,  890):  (0)\n",
      "[ 890,  900):  (0)\n",
      "[ 900,  910):  (0)\n",
      "[ 910,  920):  (0)\n",
      "[ 920,  930):  (0)\n",
      "[ 930,  940):  (0)\n",
      "[ 940,  950):  (0)\n",
      "[ 950,  960):  (0)\n",
      "[ 960,  970):  (0)\n",
      "[ 970,  980):  (0)\n",
      "[ 980,  990):  (0)\n",
      "[ 990, 1000):  (0)\n",
      "[1000, 1010):  (0)\n",
      "[1010, 1020):  (0)\n",
      "[1020, 1030):  (0)\n",
      "[1030, 1040):  (0)\n",
      "[1040, 1050):  (0)\n",
      "[1050, 1060):  (0)\n",
      "[1060, 1070):  (0)\n",
      "[1070, 1080):  (0)\n",
      "[1080, 1090):  (0)\n",
      "[1090, 1100):  (0)\n",
      "[1100, 1110):  (0)\n",
      "[1110, 1120):  (0)\n",
      "[1120, 1130):  (0)\n",
      "[1130, 1140):  (0)\n",
      "[1140, 1150):  (0)\n",
      "[1150, 1160):  (0)\n",
      "[1160, 1170):  (0)\n",
      "[1170, 1180):  (0)\n",
      "[1180, 1190):  (0)\n",
      "[1190, 1200):  (0)\n",
      "[1200, 1210):  (0)\n",
      "[1210, 1220):  (0)\n",
      "[1220, 1230):  (0)\n",
      "[1230, 1240):  (0)\n",
      "[1240, 1250):  (0)\n",
      "[1250, 1260):  (0)\n",
      "[1260, 1270):  (0)\n",
      "[1270, 1280):  (0)\n",
      "[1280, 1290):  (0)\n",
      "[1290, 1300):  (0)\n",
      "[1300, 1310):  (0)\n",
      "[1310, 1320):  (0)\n",
      "[1320, 1330):  (0)\n",
      "[1330, 1340):  (0)\n",
      "[1340, 1350):  (0)\n",
      "[1350, 1360):  (0)\n",
      "[1360, 1370):  (0)\n",
      "[1370, 1380):  (0)\n",
      "[1380, 1390):  (0)\n",
      "[1390, 1400):  (0)\n",
      "[1400, 1410):  (0)\n",
      "[1410, 1420):  (0)\n",
      "[1420, 1430):  (0)\n",
      "[1430, 1440):  (0)\n",
      "[1440, 1450):  (0)\n",
      "[1450, 1460):  (0)\n",
      "[1460, 1470):  (0)\n",
      "[1470, 1480):  (0)\n",
      "[1480, 1490):  (0)\n",
      "[1490, 1500):  (0)\n",
      "[1500, 1510):  (0)\n",
      "[1510, 1520):  (0)\n",
      "[1520, 1530):  (0)\n",
      "[1530, 1540):  (0)\n",
      "[1540, 1550):  (0)\n",
      "[1550, 1560):  (0)\n",
      "[1560, 1570):  (0)\n",
      "[1570, 1580):  (0)\n",
      "[1580, 1590):  (0)\n",
      "[1590, 1600):  (0)\n",
      "[1600, 1610):  (0)\n",
      "[1610, 1620):  (0)\n",
      "[1620, 1630):  (0)\n",
      "[1630, 1640): * (1)\n"
     ]
    }
   ],
   "source": [
    "histogram = components.size_histogram(bin_width=10)\n",
    "print(histogram)"
   ]
  },
  {
   "cell_type": "code",
   "execution_count": 17,
   "id": "8b125c6b",
   "metadata": {},
   "outputs": [],
   "source": [
    "sorted_components = sorted(list(enumerate(components)), key=lambda x: len(x[1]), reverse=True)"
   ]
  },
  {
   "cell_type": "code",
   "execution_count": 18,
   "id": "4a2d6aed",
   "metadata": {},
   "outputs": [
    {
     "data": {
      "text/plain": [
       "1632"
      ]
     },
     "execution_count": 18,
     "metadata": {},
     "output_type": "execute_result"
    }
   ],
   "source": [
    "# size of the largest component\n",
    "len(sorted_components[0][1])"
   ]
  },
  {
   "cell_type": "code",
   "execution_count": 19,
   "id": "98629b8f",
   "metadata": {},
   "outputs": [
    {
     "data": {
      "text/plain": [
       "[1, 3]"
      ]
     },
     "execution_count": 19,
     "metadata": {},
     "output_type": "execute_result"
    }
   ],
   "source": [
    "# index of largest and second largest components\n",
    "max_indices = [sorted_components[0][0], sorted_components[1][0]]\n",
    "max_indices"
   ]
  },
  {
   "cell_type": "code",
   "execution_count": 20,
   "id": "c01efd18",
   "metadata": {},
   "outputs": [
    {
     "data": {
      "text/plain": [
       "0.6674846625766871"
      ]
     },
     "execution_count": 20,
     "metadata": {},
     "output_type": "execute_result"
    }
   ],
   "source": [
    "# proportion of nodes covered by the largest component\n",
    "len(sorted_components[0][1]) / len(all_nodes)"
   ]
  },
  {
   "cell_type": "code",
   "execution_count": 21,
   "id": "a2524316",
   "metadata": {},
   "outputs": [
    {
     "data": {
      "image/png": "[encoded data removed]",
      "text/plain": [
       "<Figure size 640x480 with 1 Axes>"
      ]
     },
     "metadata": {},
     "output_type": "display_data"
    }
   ],
   "source": [
    "fig, ax = plt.subplots()\n",
    "ig.plot(components, target=ax, layout=layout, vertex_size=0.0002, bbox=(800,400), mark_groups=True)\n",
    "plt.show()"
   ]
  },
  {
   "cell_type": "code",
   "execution_count": 22,
   "id": "ae69ebd8",
   "metadata": {},
   "outputs": [
    {
     "data": {
      "image/png": "[encoded data removed]",
      "text/plain": [
       "<Figure size 640x480 with 1 Axes>"
      ]
     },
     "metadata": {},
     "output_type": "display_data"
    }
   ],
   "source": [
    "fig, ax = plt.subplots()\n",
    "ig.plot(components, target=ax, layout=layout, vertex_size=0.0002, bbox=(800,400), mark_groups=max_indices)\n",
    "plt.show()"
   ]
  }
 ],
 "metadata": {
  "kernelspec": {
   "display_name": "venv",
   "language": "python",
   "name": "venv"
  },
  "language_info": {
   "codemirror_mode": {
    "name": "ipython",
    "version": 3
   },
   "file_extension": ".py",
   "mimetype": "text/x-python",
   "name": "python",
   "nbconvert_exporter": "python",
   "pygments_lexer": "ipython3",
   "version": "3.8.9"
  }
 },
 "nbformat": 4,
 "nbformat_minor": 5
}
