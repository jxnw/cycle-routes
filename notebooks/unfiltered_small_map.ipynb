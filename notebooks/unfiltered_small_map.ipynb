{
 "cells": [
  {
   "cell_type": "code",
   "execution_count": 1,
   "id": "446fccc8",
   "metadata": {},
   "outputs": [],
   "source": [
    "from typing import Dict, List\n",
    "import matplotlib.pyplot as plt\n",
    "import networkx as nx\n",
    "import overpy\n",
    "import numpy as np"
   ]
  },
  {
   "cell_type": "code",
   "execution_count": 2,
   "id": "da04336e",
   "metadata": {},
   "outputs": [],
   "source": [
    "import os\n",
    "import sys\n",
    "module_path = os.path.abspath(os.path.join('..'))\n",
    "if module_path not in sys.path:\n",
    "    sys.path.append(module_path)"
   ]
  },
  {
   "cell_type": "code",
   "execution_count": 3,
   "id": "812c9da5",
   "metadata": {},
   "outputs": [],
   "source": [
    "from scripts.config import Config"
   ]
  },
  {
   "cell_type": "code",
   "execution_count": 4,
   "id": "e7d66027",
   "metadata": {},
   "outputs": [],
   "source": [
    "def eval_way(way, config: Config = Config()):\n",
    "    score = 0\n",
    "    max_score = config.weight_sum()\n",
    "    for tag, value in way.tags.items():\n",
    "        weight, mapping = config[tag]\n",
    "        score += weight * mapping.get(value, 0)\n",
    "    return score / max_score"
   ]
  },
  {
   "cell_type": "code",
   "execution_count": 5,
   "id": "8cc29e81",
   "metadata": {},
   "outputs": [],
   "source": [
    "def filter_ways(result, threshold):\n",
    "    ways = []\n",
    "    for way in result.ways:\n",
    "        score = eval_way(way)\n",
    "        if score > threshold:\n",
    "            ways.append(way)\n",
    "    return ways"
   ]
  },
  {
   "cell_type": "code",
   "execution_count": 6,
   "id": "338facd5",
   "metadata": {},
   "outputs": [],
   "source": [
    "def ways_to_edges(ways: List[overpy.Way]):\n",
    "    link_counter: Dict[str, int] = {}\n",
    "    for way in ways:\n",
    "        nodes = way.get_nodes(resolve_missing=True)\n",
    "        for node in nodes:\n",
    "            link_counter[node.id] = link_counter.get(node.id, 0) + 1\n",
    "\n",
    "    edges = []\n",
    "    all_nodes = set()\n",
    "    for way in ways:\n",
    "        nodes = way.get_nodes(resolve_missing=True)\n",
    "        if len(nodes) == 2:\n",
    "            edges.append([nodes[0].id, nodes[1].id])  # add way as an edge\n",
    "            all_nodes.add(nodes[0])\n",
    "            all_nodes.add(nodes[1])\n",
    "            continue\n",
    "        head = nodes[0]\n",
    "        tail = nodes[len(nodes) - 1]\n",
    "        prev = head\n",
    "        for i in range(1, len(nodes) - 1):\n",
    "            node = nodes[i]\n",
    "            if link_counter[node.id] > 1:\n",
    "                # break the way on node\n",
    "                edges.append([prev.id, node.id])\n",
    "                all_nodes.add(prev)\n",
    "                all_nodes.add(node)\n",
    "                prev = node\n",
    "                if i == len(nodes) - 2:\n",
    "                    edges.append([node.id, tail.id])\n",
    "                    all_nodes.add(tail)\n",
    "    return edges, list(all_nodes)"
   ]
  },
  {
   "cell_type": "code",
   "execution_count": 7,
   "id": "d9e8f09b",
   "metadata": {},
   "outputs": [],
   "source": [
    "api = overpy.Overpass()\n",
    "# result = api.query(\"nwr(56.3284, -2.8350, 56.3437, -2.7855); out;\")  # st andrews\n",
    "result = api.query(\"nwr(56.3375, -2.8059, 56.3422, -2.7888); out;\")"
   ]
  },
  {
   "cell_type": "code",
   "execution_count": 8,
   "id": "4c3e31ff",
   "metadata": {},
   "outputs": [],
   "source": [
    "ways = filter_ways(result, 0.15)"
   ]
  },
  {
   "cell_type": "code",
   "execution_count": 9,
   "id": "a662b26d",
   "metadata": {},
   "outputs": [],
   "source": [
    "edges, all_nodes = ways_to_edges(ways)\n",
    "node_mapping = {node.id: idx for idx, node in enumerate(all_nodes)}\n",
    "mapped_edges = [[node_mapping[edge[0]], node_mapping[edge[1]]] for edge in edges]"
   ]
  },
  {
   "cell_type": "code",
   "execution_count": 10,
   "id": "e9e3c930",
   "metadata": {},
   "outputs": [
    {
     "name": "stdout",
     "output_type": "stream",
     "text": [
      "26\n",
      "38\n"
     ]
    }
   ],
   "source": [
    "print(len(edges))\n",
    "print(len(all_nodes))"
   ]
  },
  {
   "cell_type": "code",
   "execution_count": 11,
   "id": "afebca28",
   "metadata": {},
   "outputs": [],
   "source": [
    "layout = [(float(node.lon), float(node.lat)) for node in all_nodes]"
   ]
  },
  {
   "cell_type": "code",
   "execution_count": 12,
   "id": "f3bb5d2b",
   "metadata": {},
   "outputs": [],
   "source": [
    "layout_dict = {i: pos for i, pos in enumerate(layout)}"
   ]
  },
  {
   "cell_type": "code",
   "execution_count": 13,
   "id": "1c280d84",
   "metadata": {},
   "outputs": [],
   "source": [
    "G = nx.Graph(mapped_edges)"
   ]
  },
  {
   "cell_type": "code",
   "execution_count": 14,
   "id": "a73750d1",
   "metadata": {},
   "outputs": [
    {
     "data": {
      "image/png": "[encoded data removed]",
      "text/plain": [
       "<Figure size 640x480 with 1 Axes>"
      ]
     },
     "metadata": {},
     "output_type": "display_data"
    }
   ],
   "source": [
    "nx.draw_networkx(G, pos=layout_dict, with_labels=False, node_size=5)"
   ]
  },
  {
   "cell_type": "code",
   "execution_count": 15,
   "id": "ade9a149",
   "metadata": {},
   "outputs": [],
   "source": [
    "def poly_area(x,y):\n",
    "    return 0.5 * np.abs(np.dot(x, np.roll(y, 1)) - np.dot(y, np.roll(x, 1)))"
   ]
  },
  {
   "cell_type": "code",
   "execution_count": 16,
   "id": "8a9b0399",
   "metadata": {},
   "outputs": [],
   "source": [
    "def group_area(group):\n",
    "    nodes = [all_nodes[n_id] for n_id in group]\n",
    "    coordinates = [(float(node.lon), float(node.lat)) for node in nodes]\n",
    "    south = min(coordinates, key=lambda x: x[1])\n",
    "    west = min(coordinates, key=lambda x: x[0])\n",
    "    north = max(coordinates, key=lambda x: x[1])\n",
    "    east = max(coordinates, key=lambda x: x[0])\n",
    "    bbox = [south, west, north, east]\n",
    "    return poly_area([n[0] for n in bbox], [n[1] for n in bbox])"
   ]
  },
  {
   "cell_type": "code",
   "execution_count": 17,
   "id": "eb7a4760",
   "metadata": {},
   "outputs": [],
   "source": [
    "n_mapping = {n_id: i for i, n_id in enumerate(list(G.nodes()))}"
   ]
  },
  {
   "cell_type": "code",
   "execution_count": 18,
   "id": "624deed9",
   "metadata": {},
   "outputs": [
    {
     "data": {
      "text/plain": [
       "5"
      ]
     },
     "execution_count": 18,
     "metadata": {},
     "output_type": "execute_result"
    }
   ],
   "source": [
    "sorted_groups = sorted(nx.connected_components(G), key=group_area, reverse=True)\n",
    "len(sorted_groups[0])"
   ]
  },
  {
   "cell_type": "code",
   "execution_count": 19,
   "id": "d9b1a265",
   "metadata": {},
   "outputs": [],
   "source": [
    "color_array = [\"blue\"] * len(all_nodes)\n",
    "for n_id in sorted_groups[0]:\n",
    "    color_array[n_mapping[n_id]] = \"red\"\n",
    "for n_id in sorted_groups[1]:\n",
    "    color_array[n_mapping[n_id]] = \"green\""
   ]
  },
  {
   "cell_type": "code",
   "execution_count": 20,
   "id": "1aaabfc9",
   "metadata": {},
   "outputs": [
    {
     "data": {
      "image/png": "[encoded data removed]",
      "text/plain": [
       "<Figure size 640x480 with 1 Axes>"
      ]
     },
     "metadata": {},
     "output_type": "display_data"
    }
   ],
   "source": [
    "nx.draw_networkx(G, pos=layout_dict, with_labels=False, node_size=5, node_color=color_array, font_size=6)"
   ]
  }
 ],
 "metadata": {
  "kernelspec": {
   "display_name": "venv",
   "language": "python",
   "name": "venv"
  },
  "language_info": {
   "codemirror_mode": {
    "name": "ipython",
    "version": 3
   },
   "file_extension": ".py",
   "mimetype": "text/x-python",
   "name": "python",
   "nbconvert_exporter": "python",
   "pygments_lexer": "ipython3",
   "version": "3.9.6"
  }
 },
 "nbformat": 4,
 "nbformat_minor": 5
}
