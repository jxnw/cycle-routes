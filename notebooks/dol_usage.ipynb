{
 "cells": [
  {
   "cell_type": "code",
   "execution_count": null,
   "id": "88434525",
   "metadata": {},
   "outputs": [],
   "source": [
    "import os\n",
    "import sys\n",
    "module_path = os.path.abspath(os.path.join('..'))\n",
    "if module_path not in sys.path:\n",
    "    sys.path.append(module_path)"
   ]
  },
  {
   "cell_type": "code",
   "execution_count": null,
   "id": "654e6ff7",
   "metadata": {},
   "outputs": [],
   "source": [
    "import matplotlib.pyplot as plt\n",
    "import networkx as nx\n",
    "import numpy as np\n",
    "import math\n",
    "from scripts.config import Config\n",
    "from scripts.model import Model"
   ]
  },
  {
   "cell_type": "code",
   "execution_count": null,
   "id": "76266165",
   "metadata": {},
   "outputs": [],
   "source": [
    "def poly_area(x, y):\n",
    "    return 0.5 * np.abs(np.dot(x, np.roll(y, 1)) - np.dot(y, np.roll(x, 1)))\n",
    "\n",
    "\n",
    "def group_area(group, layout):\n",
    "    coordinates = [layout.get(node_id) for node_id in group]\n",
    "    south = min(coordinates, key=lambda x: x[1])\n",
    "    west = min(coordinates, key=lambda x: x[0])\n",
    "    north = max(coordinates, key=lambda x: x[1])\n",
    "    east = max(coordinates, key=lambda x: x[0])\n",
    "    bbox = [south, west, north, east]\n",
    "    return poly_area([n[0] for n in bbox], [n[1] for n in bbox])"
   ]
  },
  {
   "cell_type": "code",
   "execution_count": null,
   "id": "6039b880",
   "metadata": {},
   "outputs": [],
   "source": [
    "config = Config()\n",
    "model = Model(config)\n",
    "dol, all_nodes = model.get_graph()\n",
    "\n",
    "G = nx.Graph(dol)\n",
    "edges = set(G.edges)\n",
    "layout = {node.id: (float(node.lon), float(node.lat)) for node in all_nodes}\n",
    "for node_name in G.nodes:\n",
    "    G.nodes[node_name]['pos'] = layout[node_name]\n",
    "\n",
    "sorted_groups = sorted(nx.connected_components(G), \\\n",
    "                       key=lambda g: group_area(g, layout), reverse=True)"
   ]
  },
  {
   "cell_type": "code",
   "execution_count": null,
   "id": "e4dae6dd",
   "metadata": {},
   "outputs": [],
   "source": [
    "nx.draw_networkx(G, pos=layout, with_labels=False, node_size=5)\n",
    "nx.draw_networkx(G.subgraph(list(sorted_groups[0])), pos=layout, node_color='r', \\\n",
    "                 edge_color='r', with_labels=False,\n",
    "                 node_size=5)\n",
    "nx.draw_networkx(G.subgraph(list(sorted_groups[1])), pos=layout, node_color='m', \\\n",
    "                 edge_color='m', with_labels=False,\n",
    "                 node_size=5)"
   ]
  },
  {
   "cell_type": "code",
   "execution_count": null,
   "id": "e2ba491e",
   "metadata": {
    "scrolled": false
   },
   "outputs": [],
   "source": [
    "new_edges = set(nx.geometric_edges(G, radius=config.neighbour_eps))\n",
    "edges = edges.union(new_edges)\n",
    "\n",
    "graph = nx.Graph(edges)\n",
    "new_sorted_groups = sorted(nx.connected_components(graph), \\\n",
    "                           key=lambda g: group_area(g, layout), reverse=True)\n",
    "nx.draw_networkx(graph, pos=layout, with_labels=False, node_size=5)\n",
    "nx.draw_networkx(graph.subgraph(list(new_sorted_groups[0])), pos=layout, node_color='r', \\\n",
    "                 edge_color='r', with_labels=False,\n",
    "                 node_size=5)\n",
    "nx.draw_networkx(graph.subgraph(list(new_sorted_groups[1])), pos=layout, node_color='m', \\\n",
    "                 edge_color='m', with_labels=False,\n",
    "                 node_size=5)"
   ]
  },
  {
   "cell_type": "code",
   "execution_count": null,
   "id": "ff36dfd8",
   "metadata": {},
   "outputs": [],
   "source": [
    "config_zero_threshold = Config(threshold=0)\n",
    "model_zero = Model(config_zero_threshold)\n",
    "dol, all_nodes = model_zero.get_graph()"
   ]
  },
  {
   "cell_type": "code",
   "execution_count": null,
   "id": "3e64ab73",
   "metadata": {},
   "outputs": [],
   "source": [
    "H = nx.Graph(dol)\n",
    "layout = {node.id: (float(node.lon), float(node.lat)) for node in all_nodes}\n",
    "for node_name in H.nodes:\n",
    "    H.nodes[node_name]['pos'] = layout[node_name]\n",
    "\n",
    "sorted_groups = sorted(nx.connected_components(H), \\\n",
    "                       key=lambda g: group_area(g, layout), reverse=True)"
   ]
  },
  {
   "cell_type": "code",
   "execution_count": null,
   "id": "c5fb1a25",
   "metadata": {},
   "outputs": [],
   "source": [
    "new_edges = set(nx.geometric_edges(H, radius=config.neighbour_eps))\n",
    "edges = edges.union(new_edges)\n",
    "H_close = nx.Graph(edges)"
   ]
  },
  {
   "cell_type": "code",
   "execution_count": null,
   "id": "4894a8f6",
   "metadata": {},
   "outputs": [],
   "source": [
    "new_sorted_groups = sorted(nx.connected_components(H_close), \\\n",
    "                       key=lambda g: group_area(g, layout), reverse=True)"
   ]
  },
  {
   "cell_type": "code",
   "execution_count": null,
   "id": "77ef64c4",
   "metadata": {},
   "outputs": [],
   "source": [
    "sorted([len(x) for x in new_sorted_groups], reverse=True)"
   ]
  },
  {
   "cell_type": "code",
   "execution_count": null,
   "id": "f99a6c0f",
   "metadata": {},
   "outputs": [],
   "source": [
    "nx.draw_networkx(H, pos=layout, with_labels=False, node_size=1)\n",
    "# nx.draw_networkx(H.subgraph(list(sorted_groups[0])), pos=layout, node_color='r', edge_color='r', with_labels=False,\n",
    "#                  node_size=5)\n",
    "# nx.draw_networkx(H.subgraph(list(sorted_groups[1])), pos=layout, node_color='m', edge_color='m', with_labels=False,\n",
    "#                  node_size=5)"
   ]
  },
  {
   "cell_type": "code",
   "execution_count": null,
   "id": "1a0287dc",
   "metadata": {},
   "outputs": [],
   "source": [
    "sorted([len(x) for x in sorted_groups], reverse=True)"
   ]
  },
  {
   "cell_type": "code",
   "execution_count": null,
   "id": "6c59b289",
   "metadata": {},
   "outputs": [],
   "source": [
    "largest, larger = sorted_groups[0], sorted_groups[1]\n",
    "largest_centre = max(largest, key=lambda n: math.dist(layout[n], model.data_fetcher.get_centre()))\n",
    "larger_centre = max(larger, key=lambda n: math.dist(layout[n], model.data_fetcher.get_centre()))\n",
    "shortest_path = nx.shortest_path(H_close, largest_centre, larger_centre)\n",
    "shortest_path_edges = [(shortest_path[i], shortest_path[i + 1]) for i in range(len(shortest_path) - 1)]"
   ]
  },
  {
   "cell_type": "code",
   "execution_count": null,
   "id": "6d5922c4",
   "metadata": {},
   "outputs": [],
   "source": [
    "shortest_path_edges"
   ]
  },
  {
   "cell_type": "code",
   "execution_count": null,
   "id": "31cf3dec",
   "metadata": {},
   "outputs": [],
   "source": [
    "new_sorted_groups = sorted(nx.connected_components(graph), \\\n",
    "                           key=lambda g: group_area(g, layout), reverse=True)\n",
    "nx.draw_networkx(graph, pos=layout, with_labels=False, node_size=5)\n",
    "nx.draw_networkx(graph.subgraph(list(new_sorted_groups[0])), pos=layout, node_color='r', \\\n",
    "                 edge_color='r', with_labels=False,\n",
    "                 node_size=5)\n",
    "nx.draw_networkx(graph.subgraph(list(new_sorted_groups[1])), pos=layout, node_color='m', \\\n",
    "                 edge_color='m', with_labels=False,\n",
    "                 node_size=5)\n",
    "nx.draw_networkx(nx.Graph(shortest_path_edges), pos=layout, node_color='y', \\\n",
    "                 edge_color='y', with_labels=False,\n",
    "                 node_size=5)"
   ]
  }
 ],
 "metadata": {
  "kernelspec": {
   "display_name": "venv",
   "language": "python",
   "name": "venv"
  },
  "language_info": {
   "codemirror_mode": {
    "name": "ipython",
    "version": 3
   },
   "file_extension": ".py",
   "mimetype": "text/x-python",
   "name": "python",
   "nbconvert_exporter": "python",
   "pygments_lexer": "ipython3",
   "version": "3.9.6"
  }
 },
 "nbformat": 4,
 "nbformat_minor": 5
}
